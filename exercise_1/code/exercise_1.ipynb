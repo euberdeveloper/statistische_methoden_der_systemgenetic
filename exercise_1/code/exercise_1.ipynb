{
 "cells": [
  {
   "cell_type": "markdown",
   "id": "366bb9fa",
   "metadata": {},
   "source": [
    "# 1. General\n",
    "\n",
    "Exercises belong to two different categories:\n",
    "* Pen and paper exercise marked with the symbol\n",
    "* Programming exercise marked with the symbol\n",
    "\n",
    "\n",
    "For questions regarding this exercise, feel free to contact corinna.losert@helmholtz-muenchen.de or katharina.\n",
    "schmid@helmholtz-muenchen.de ."
   ]
  },
  {
   "cell_type": "markdown",
   "id": "2aaef578",
   "metadata": {},
   "source": [
    "# 2. Requirements\n",
    "\n",
    "1. R packages\n",
    "    - VariantAnnotation (install with: BiocManager::install(\"VariantAnnotation\"))\n",
    "    - biomaRt (install with: BiocManager::install(\"biomaRt\"))\n",
    "    - Gviz (install with: BiocManager::install(\"Gviz\"))\n",
    "    - optional but really useful to create pdf-reports: markdown & knitr (needs a valid TeX installation)\n",
    "2. Data\n",
    "    - filtered 1000 genomes genotypes\n",
    "vcf file (e-geuv-1_filtered.vcf.bgz and e-geuv-1_filtered.vcf.bgz.tbi, 1.4 MB / 114 KB)\n",
    "In case you have problems installing R or any package, have a look at the instructions on moodle (called\n",
    "“installation.pdf”) or use google colab instead (you can copy the notebook from this template )"
   ]
  },
  {
   "cell_type": "code",
   "execution_count": null,
   "id": "2436273b",
   "metadata": {},
   "outputs": [],
   "source": [
    "# Install required packages if missing\n",
    "\n",
    "if (!requireNamespace(\"BiocManager\", quietly = TRUE, verbose = FALSE)) {\n",
    "    install.packages(\"BiocManager\")\n",
    "}\n",
    "\n",
    "if (!(\"VariantAnnotation\" %in% rownames(installed.packages()))) {\n",
    "    BiocManager::install(\"VariantAnnotation\")\n",
    "}\n",
    "if (!(\"snpStats\" %in% rownames(installed.packages()))) {\n",
    "    BiocManager::install(\"snpStats\")\n",
    "}\n",
    "if (!(\"biomaRt\" %in% rownames(installed.packages()))) {\n",
    "    BiocManager::install(\"biomaRt\")\n",
    "}\n",
    "if (!(\"Gviz\" %in% rownames(installed.packages()))) {\n",
    "    BiocManager::install(\"Gviz\")\n",
    "}"
   ]
  },
  {
   "cell_type": "markdown",
   "id": "b1056b27",
   "metadata": {},
   "source": [
    "# 3. Quick R refresher\n",
    "\n",
    "Several of the following exercises will be in R, so let’s make sure you all know the basic R commands. For help, have a look at the large collections of cheatsheets from Rstudio https://www.rstudio.com/resources/cheatsheets/, such as the one with base R commands http://github.com/rstudio/cheatsheets/raw/master/base-r.pdf.\n",
    "\n",
    "Try to solve these short exercises to make sure you now basic R commands:\n",
    "* Load the ’VariantAnnotation’ package which will also be used later on in the script\n",
    "* Get a list of the functions within the package\n",
    "* Check out the documentation for the function \"readVcf\"\n",
    "* Get your current working directory"
   ]
  },
  {
   "cell_type": "markdown",
   "id": "d7830496",
   "metadata": {},
   "source": [
    "### Install required packages if missing"
   ]
  },
  {
   "cell_type": "code",
   "execution_count": null,
   "id": "34a11e5b",
   "metadata": {},
   "outputs": [],
   "source": [
    "if (!requireNamespace(\"BiocManager\", quietly = TRUE, verbose = FALSE)) {\n",
    "    install.packages(\"BiocManager\")\n",
    "}"
   ]
  },
  {
   "cell_type": "markdown",
   "id": "7b49142f",
   "metadata": {},
   "source": [
    "### Load the ’VariantAnnotation’ package which will also be used later on in the script"
   ]
  },
  {
   "cell_type": "code",
   "execution_count": null,
   "id": "978f5a68",
   "metadata": {},
   "outputs": [],
   "source": [
    "library(VariantAnnotation, quietly = TRUE)"
   ]
  },
  {
   "cell_type": "markdown",
   "id": "c0a84c1a",
   "metadata": {},
   "source": [
    "### Get a list of the functions within the package"
   ]
  },
  {
   "cell_type": "code",
   "execution_count": null,
   "id": "fd451f52",
   "metadata": {},
   "outputs": [],
   "source": [
    "lsf.str(\"package:VariantAnnotation\")"
   ]
  },
  {
   "cell_type": "markdown",
   "id": "a8c1d67c",
   "metadata": {},
   "source": [
    "### Check out the documentation for the function \"readVcf\""
   ]
  },
  {
   "cell_type": "code",
   "execution_count": null,
   "id": "1f0503f0",
   "metadata": {},
   "outputs": [],
   "source": [
    "?readVcf\n",
    "# help(readVcf)"
   ]
  },
  {
   "cell_type": "markdown",
   "id": "48c83fce",
   "metadata": {},
   "source": [
    "### Get your current working directory"
   ]
  },
  {
   "cell_type": "code",
   "execution_count": null,
   "id": "b845a607",
   "metadata": {},
   "outputs": [],
   "source": [
    "getwd()"
   ]
  },
  {
   "cell_type": "markdown",
   "id": "338fbede",
   "metadata": {},
   "source": [
    "### Assign the sum of 2,3 and 4 to variable x"
   ]
  },
  {
   "cell_type": "code",
   "execution_count": null,
   "id": "73364bc7",
   "metadata": {},
   "outputs": [],
   "source": [
    "x <- 2 + 3 + 4\n",
    "x\n",
    "\n",
    "x <- sum(2:4)\n",
    "x\n",
    "\n",
    "x <- sum(c(2, 3, 4))\n",
    "x"
   ]
  },
  {
   "cell_type": "markdown",
   "id": "1e2a49c3",
   "metadata": {},
   "source": [
    "### Make a character vector of the gene names PAX6, ZIC2, OCT4 and SOX2 and a second numeric countvector of the same length containing randomly sampled numbers between 1 and 10 (set the seed 42)"
   ]
  },
  {
   "cell_type": "code",
   "execution_count": null,
   "id": "10939d2d",
   "metadata": {},
   "outputs": [],
   "source": [
    "genes <- c(\"PAX6\", \"ZIC2\", \"OCT4\", \"SOX2\")\n",
    "set.seed(24)\n",
    "counts <- sample(1:10, length(genes))\n",
    "\n",
    "genes\n",
    "counts"
   ]
  },
  {
   "cell_type": "markdown",
   "id": "a14964a7",
   "metadata": {},
   "source": [
    "### Subset the gene - vector using [] notation, and get the 2nd and 4th element"
   ]
  },
  {
   "cell_type": "code",
   "execution_count": null,
   "id": "aa1e9e9d",
   "metadata": {},
   "outputs": [],
   "source": [
    "genes[c(2, 4)]"
   ]
  },
  {
   "cell_type": "markdown",
   "id": "adfc39af",
   "metadata": {},
   "source": [
    "### Generate a dataframe out of the two generated vectors"
   ]
  },
  {
   "cell_type": "code",
   "execution_count": null,
   "id": "55c92373",
   "metadata": {},
   "outputs": [],
   "source": [
    "genes_df <- data.frame(genes, counts)\n",
    "genes_df"
   ]
  },
  {
   "cell_type": "markdown",
   "id": "646a4d1d",
   "metadata": {},
   "source": [
    "### Select the genes of the generated dataframe for which the corresponding count value is greater than 5"
   ]
  },
  {
   "cell_type": "code",
   "execution_count": null,
   "id": "97c10aa6",
   "metadata": {},
   "outputs": [],
   "source": [
    "# genes_df['counts']\n",
    "# genes_df['counts'] > 5\n",
    "\n",
    "# genes_df[genes_df$counts > 5, ]\n",
    "subset(genes_df, counts > 5)"
   ]
  },
  {
   "cell_type": "markdown",
   "id": "45788239",
   "metadata": {},
   "source": [
    " ### Make a boxplot of the distribution of the generated count values in the dataframe"
   ]
  },
  {
   "cell_type": "code",
   "execution_count": null,
   "id": "b1e1308c",
   "metadata": {},
   "outputs": [],
   "source": [
    "boxplot(genes_df$counts)"
   ]
  },
  {
   "cell_type": "markdown",
   "id": "efb979a2",
   "metadata": {},
   "source": [
    "### Write a function that takes a gene name and a dataframe as input with one column named \\\"genes\\\" and searches whether this gene name occurs in the column. It returns TRUE in case the genename occurs in thedataset and FALSE in case it doesn’t. Test the function with the above generated dataset."
   ]
  },
  {
   "cell_type": "code",
   "execution_count": null,
   "id": "dc23b055",
   "metadata": {},
   "outputs": [],
   "source": [
    "is_gene_present <- function(gene_name, genes_df) {\n",
    "    return(gene_name %in% genes_df$genes)\n",
    "}\n",
    "\n",
    ".test_gene_present <- function(gene_name, genes_df) {\n",
    "    if (is_gene_present(gene_name, genes_df)) {\n",
    "        print(paste0(\"Gene \", gene_name, \" is present\"))\n",
    "    } else {\n",
    "        print(paste0(\"Gene \", gene_name, \" is not present\"))\n",
    "    }\n",
    "}\n",
    "\n",
    ".test_gene_present(\"BURUNDU\", genes_df)\n",
    ".test_gene_present(\"PAX6\", genes_df)"
   ]
  },
  {
   "cell_type": "markdown",
   "id": "1cc97690",
   "metadata": {},
   "source": [
    "# 4. Quick R refresher\n",
    "\n",
    "Please explain shortly the following genetic terms:\n",
    "* Central Dogma of Molecular Biology\n",
    "* gene\n",
    "* allele\n",
    "* genotype\n",
    "* heterozygous\n",
    "* phenotype\n",
    "* SNP"
   ]
  },
  {
   "cell_type": "markdown",
   "id": "87da6737",
   "metadata": {},
   "source": [
    "| **TERM**                           | **DEFINITION**                                                                                                          |\n",
    "|------------------------------------|-------------------------------------------------------------------------------------------------------------------------|\n",
    "| Central Dogma of Molecular Biology | The DNA is translated in RNA that is translated in proteins                                                             |\n",
    "| Gene                               | A gene is a specific DNA region of a chromosome. It is a piece of DNA translated into RNA.                              |\n",
    "| Allele                             | An allele is a \"value\" that a gene can assume (a sequence of basis that it is possible that it constitutes that gene)   |\n",
    "| Genotype                           | The set of alleles assumed by an individual for a gene (AA, Aa, aa)                                                     |\n",
    "| Heterozygous                       | It means that the individual has two different alleles for a genotype                                                   |\n",
    "| Phenotype                          | The tangible results of the genotype                                                                                    |\n",
    "| SNP                                | Single nucleotide polymorphism, a genetic variant where just a single base is changed (could have effects on phenotype) |"
   ]
  },
  {
   "cell_type": "markdown",
   "id": "377bb177",
   "metadata": {},
   "source": [
    "# 5. VCF (Variant Call format) files"
   ]
  },
  {
   "cell_type": "markdown",
   "id": "e7546fe5",
   "metadata": {},
   "source": [
    "## 5.1 VCF Format\n",
    "\n",
    "In the following, you can find the first few lines of a VCF file.\n",
    "\n",
    "![vcf_image](./assets/vcf.png)\n"
   ]
  },
  {
   "cell_type": "markdown",
   "id": "0306f09f",
   "metadata": {},
   "source": [
    "### What is saved in a VCF file?"
   ]
  },
  {
   "cell_type": "markdown",
   "id": "aaa3a9bf",
   "metadata": {},
   "source": [
    "VCF = Variant Call Format\n",
    "\n",
    "File format that is used for files containing information about genetic variant.\n",
    "\n",
    "There is an explaination header, than each row represents a single variant, the firsts columns are the annotations describing the variant, while the last columns are the single samples of that variant"
   ]
  },
  {
   "cell_type": "markdown",
   "id": "3483803f",
   "metadata": {},
   "source": [
    "### Which are the eight mandatory columns in the header line? Explain their meaning and specify their data format!"
   ]
  },
  {
   "cell_type": "markdown",
   "id": "1d75a808",
   "metadata": {},
   "source": [
    "* CHROM: It is the id of the chromosome of the variant (String)\n",
    "* POS: Reference position. It is the position (in n of bases) of the variant (Integer)\n",
    "* ID: It is the unique id of the variant (String)\n",
    "* REF: It is the reference base (in the dominant allele) (String)\n",
    "* ALT: It is the set of alternatives bases (in normal alleles) (String)\n",
    "* QUAL: It specifies the quality of this data (Numeric)\n",
    "* FILTER: Filter informations (String)\n",
    "* INFO: additional information (String)"
   ]
  },
  {
   "cell_type": "markdown",
   "id": "789baf4b",
   "metadata": {},
   "source": [
    "### What are the genotypes of samples NA00001, NA00002 and NA00003 for the variant rs6054257 (write down nucleotides)?"
   ]
  },
  {
   "cell_type": "markdown",
   "id": "2805bf6f",
   "metadata": {},
   "source": [
    "* NA00001: _G G_\n",
    "* NA00002: _A G_\n",
    "* NA00003: _A A_"
   ]
  },
  {
   "cell_type": "markdown",
   "id": "ded0dc32",
   "metadata": {},
   "source": [
    "## 5.2 VCF in R\n",
    "\n",
    "Read-in the vcf file using the package VariantAnnotation and answer the following questions:\n",
    "\n",
    "* Get the number of samples and variants.\n",
    "* Get the first 5 SNPs from the first 3 samples.\n",
    "* Get the reference and alternative alleles for these first 5 SNPs.\n",
    "* Get the genotypes of samples HG00351, HG00353 and HG00355 for the variant rs17042098\n",
    "* Get the frequencies of the genotypes for SNP rs17042098\n",
    "* Convert the genotypes 0/0, 0/1, 1/1 for SNP rs17042098 to 0, 1, 2.\n",
    "\n",
    "For help, check the Bioconductor documentation:\n",
    "[http://bioconductor.org/packages/release/bioc/html/VariantAnnotation.html](http://bioconductor.org/packages/release/bioc/html/VariantAnnotation.html)"
   ]
  },
  {
   "cell_type": "code",
   "execution_count": null,
   "id": "ff1130da",
   "metadata": {},
   "outputs": [],
   "source": [
    "vcf <- readVcf(\"data/e-geuv-1_filtered.vcf\")"
   ]
  },
  {
   "cell_type": "markdown",
   "id": "64cd6fc6",
   "metadata": {},
   "source": [
    "### Get the number of samples and variants."
   ]
  },
  {
   "cell_type": "code",
   "execution_count": null,
   "id": "175d4469",
   "metadata": {},
   "outputs": [],
   "source": [
    ".tmp <- dim(vcf)\n",
    "n_variants <- .tmp[1]\n",
    "n_samples <- .tmp[2]\n",
    "\n",
    "cat(\"n_variants\", n_variants, \"\\n\", \"n_samples\", n_samples, \"\\n\")"
   ]
  },
  {
   "cell_type": "markdown",
   "id": "b851ee97",
   "metadata": {},
   "source": [
    "### Get the first 5 SNPs from the first 3 samples."
   ]
  },
  {
   "cell_type": "code",
   "execution_count": null,
   "id": "1442b9eb",
   "metadata": {},
   "outputs": [],
   "source": [
    "vcf_gen <- geno(vcf)$GT\n",
    "\n",
    "vcf_gen[1:5, 1:3]"
   ]
  },
  {
   "cell_type": "markdown",
   "id": "dbd9d175",
   "metadata": {},
   "source": [
    "### Get the reference and alternative alleles for these first 5 SNPs."
   ]
  },
  {
   "cell_type": "code",
   "execution_count": null,
   "metadata": {},
   "outputs": [],
   "source": [
    "ref(vcf)[1:5]\n",
    "alt(vcf)[1:5]"
   ]
  },
  {
   "cell_type": "markdown",
   "id": "ba3a044c",
   "metadata": {},
   "source": [
    "### Get the genotypes of samples HG00351, HG00353 and HG00355 for the variant rs17042098"
   ]
  },
  {
   "cell_type": "code",
   "execution_count": null,
   "id": "5d948a62",
   "metadata": {},
   "outputs": [],
   "source": [
    "vcf_gen[\"rs17042098\", c(\"HG00351\", \"HG00353\", \"HG00355\")]"
   ]
  },
  {
   "cell_type": "markdown",
   "id": "31a463d6",
   "metadata": {},
   "source": [
    "### Get the frequencies of the genotypes for SNP rs17042098"
   ]
  },
  {
   "cell_type": "code",
   "execution_count": null,
   "id": "88fdacc1",
   "metadata": {},
   "outputs": [],
   "source": [
    "table(vcf_gen[\"rs17042098\", ])"
   ]
  },
  {
   "cell_type": "markdown",
   "id": "f848c42a",
   "metadata": {},
   "source": [
    "### Convert the genotypes 0/0, 0/1, 1/1 for SNP rs17042098 to 0, 1, 2."
   ]
  },
  {
   "cell_type": "code",
   "execution_count": null,
   "id": "d2610962",
   "metadata": {},
   "outputs": [],
   "source": [
    "head(as(genotypeToSnpMatrix(vcf[\"rs17042098\", ])$genotype, \"numeric\"))"
   ]
  },
  {
   "cell_type": "markdown",
   "id": "0af55837",
   "metadata": {},
   "source": [
    "## 5.3 Genomic Ranges in R\n",
    "\n",
    "GRanges objects are representations of genomic regions in R, consiting of a chromosome (called seqnames), a\n",
    "start position in base pairs (bp) and a width in bp. Additional information can be added as metadata columns,\n",
    "better describing the regions. For more details, see:\n",
    "\n",
    "[https://bioconductor.org/packages/release/bioc/vignettes/GenomicRanges/inst/doc/GenomicRangesIntroduction.\n",
    "html](https://bioconductor.org/packages/release/bioc/vignettes/GenomicRanges/inst/doc/GenomicRangesIntroduction.\n",
    "html)\n",
    "\n",
    "Get all SNPs in the region of chromsome 4, 2 000 000 - 3 000 000 bp.\n",
    "\n",
    "Hints:\n",
    "* you can extract a GRranges object containing SNP annotations from the vcf file using rowRanges()\n",
    "* create a GRanges object of the region of interest and calculate overlaps with findOverlaps()"
   ]
  },
  {
   "cell_type": "code",
   "execution_count": null,
   "id": "5d93b561",
   "metadata": {},
   "outputs": [],
   "source": [
    "# define the search region as a GRanges object\n",
    "search_range <- GRanges(\n",
    "    seqnames = \"4\",\n",
    "    ranges = IRanges(start = 2000000, width = 1000000)\n",
    ")\n",
    "\n",
    "# get GRanges object with all SNPs annotated in the vcf file\n",
    "snp_regions <- rowRanges(vcf)\n",
    "\n",
    "# find overlaps between both GRanges objects and subset the vcf GRanges object\n",
    "ov <- findOverlaps(snp_regions, search_range)\n",
    "snp_regions[ov@from]"
   ]
  },
  {
   "cell_type": "markdown",
   "id": "b932f63c",
   "metadata": {},
   "source": [
    "# 6. Biomart annotation\n",
    "\n",
    "biomaRt is a package to retrieve gene annotations from Biomart in R.\n",
    "\n",
    "Use this to look up the position (chromosome_name, start_position, end_position) and HGNC gene symbols for\n",
    "the genes with Ensembl gene ids (ensembl_gene_id) ENSG00000196620, ENSG00000109787, ENSG00000241163\n",
    "and ENSG00000000938.\n",
    "\n",
    "Hints:\n",
    "* get ensembl GRCh37 annotations:\n",
    "useEnsembl(biomart=\"ensembl\",dataset=\"hsapiens_gene_ensembl\",GRCh=37)\n",
    "* select desired genes with getBM()"
   ]
  },
  {
   "cell_type": "code",
   "execution_count": null,
   "id": "f3cce067",
   "metadata": {},
   "outputs": [],
   "source": [
    "library(biomaRt)"
   ]
  },
  {
   "cell_type": "code",
   "execution_count": null,
   "id": "b67fac69",
   "metadata": {},
   "outputs": [],
   "source": [
    "ensembl <- useEnsembl(\n",
    "    biomart = \"ensembl\",\n",
    "    dataset = \"hsapiens_gene_ensembl\", GRCh = 37\n",
    ")\n",
    "genes <- c(\n",
    "    \"ENSG00000196620\", \"ENSG00000109787\",\n",
    "    \"ENSG00000241163\", \"ENSG00000000938\"\n",
    ")\n",
    "getBM(attributes = c(\n",
    "    \"ensembl_gene_id\", \"chromosome_name\",\n",
    "    \"start_position\", \"end_position\", \"hgnc_symbol\"\n",
    "), filters = \"ensembl_gene_id\", values = genes, mart = ensembl)"
   ]
  },
  {
   "cell_type": "markdown",
   "id": "22049816",
   "metadata": {},
   "source": [
    "# 7. Visualization of genomic data\n",
    "\n",
    "Visualize the surrounding of rs17042098 (+/- 500 000 bp) on the genome using the package Gviz. Possible tracks\n",
    "that you could use are: IdeogramTrack to depict the whole chromosome, GenomeAxisTrack to add bp axis and\n",
    "BiomartGeneRegionTrack to add gene annotations.\n",
    "\n",
    "Use the user guide for more information:\n",
    "[https://bioconductor.org/packages/release/bioc/vignettes/Gviz/inst/doc/Gviz.html](https://bioconductor.org/packages/release/bioc/vignettes/Gviz/inst/doc/Gviz.html)\n"
   ]
  },
  {
   "cell_type": "code",
   "execution_count": null,
   "id": "db4a4324",
   "metadata": {},
   "outputs": [],
   "source": [
    "library(Gviz)"
   ]
  },
  {
   "cell_type": "code",
   "execution_count": null,
   "id": "91ab0193",
   "metadata": {},
   "outputs": [],
   "source": [
    "start_region <- rowRanges(vcf)[\"rs17042098\"]@ranges@start - 5e05\n",
    "end_region <- rowRanges(vcf)[\"rs17042098\"]@ranges@start + 5e05\n",
    "# get ideogram of the chromosome 4\n",
    "itrack <- IdeogramTrack(genome = \"hg19\", chromosome = \"4\")\n",
    "# get track for axis labeling\n",
    "axtrack <- GenomeAxisTrack()\n",
    "# get track with all genes with biomart annotation in the region\n",
    "biom_track <- BiomartGeneRegionTrack(\n",
    "    genome = \"hg19\", name = \"gene model\",\n",
    "    chromosome = 4,\n",
    "    start = start_region, end = end_region,\n",
    "    transcriptAnnotation = \"symbol\", frame = T\n",
    ")\n",
    "# plot all tracks\n",
    "plotTracks(list(itrack, axtrack, biom_track),\n",
    "    from = start_region, to = end_region\n",
    ")"
   ]
  }
 ],
 "metadata": {
  "kernelspec": {
   "display_name": "R",
   "language": "R",
   "name": "ir"
  },
  "language_info": {
   "codemirror_mode": "r",
   "file_extension": ".r",
   "mimetype": "text/x-r-source",
   "name": "R",
   "pygments_lexer": "r",
   "version": "4.1.2"
  }
 },
 "nbformat": 4,
 "nbformat_minor": 5
}
