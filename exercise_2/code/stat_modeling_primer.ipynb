{
 "cells": [
  {
   "cell_type": "markdown",
   "metadata": {},
   "source": [
    "# 3. Example: Univariate Gaussian"
   ]
  },
  {
   "cell_type": "code",
   "execution_count": null,
   "metadata": {},
   "outputs": [],
   "source": [
    "# Install and load deps\n",
    "\n",
    "if (!require(\"stringr\")) {\n",
    "    install.packages(\"stringr\")\n",
    "}\n",
    "\n",
    "library(purrr)"
   ]
  },
  {
   "cell_type": "markdown",
   "metadata": {},
   "source": [
    "As an example, we consider the heights in cm of 20 individuals:\n",
    "\n",
    "We will model the heights using the univariate Gaussian. The univariate Gaussian has two\n",
    "parameters, its mean and variance, which we aim to estimate."
   ]
  },
  {
   "cell_type": "code",
   "execution_count": null,
   "metadata": {},
   "outputs": [],
   "source": [
    ".heights_str <- \"178 162 178 178 169 150 156 162 165 189 173 157 154 162 162 161 168 156 169 153\"\n",
    "heights <- unlist(\n",
    "    map(\n",
    "        str_split(.heights_str, \" \"),\n",
    "        function(el) {\n",
    "            as.numeric(el)\n",
    "        }\n",
    "    )\n",
    ")\n",
    "\n",
    "heights"
   ]
  },
  {
   "cell_type": "markdown",
   "metadata": {},
   "source": [
    "### Step 1. Data generative model\n",
    "\n",
    "We assume the data i.i.d. and choose the univariate Gaussian as model. The `p` will become `N` and the parameters (`mu`, `sigma^2`).\n",
    "\n",
    "For the i.i.d., `p(X, params) = mult(p(x_i, params))\n"
   ]
  },
  {
   "cell_type": "markdown",
   "metadata": {},
   "source": [
    "### Step 2. Simulate data\n",
    "\n",
    "We can simulate data according to the model using the R function `rnorm()` which draws random samples of the normal distribution."
   ]
  },
  {
   "cell_type": "code",
   "execution_count": null,
   "metadata": {},
   "outputs": [],
   "source": [
    "simulate <- function(n, theta) {\n",
    "    x <- rnorm(n, mean = theta[[\"mu\"]], sd = theta[[\"sigma\"]])\n",
    "    return(x)\n",
    "}\n",
    "\n",
    "n <- 20\n",
    "theta <- c(mu = 175, sigma = 5)\n",
    "\n",
    "x <- simulate(n, theta)\n",
    "x"
   ]
  },
  {
   "cell_type": "markdown",
   "metadata": {},
   "source": [
    "### Step 3. Parameter estimation procedure"
   ]
  },
  {
   "cell_type": "markdown",
   "metadata": {},
   "source": [
    "We consider maximum likelihood estimation of the parameters, so the parameters that maximize `L(theta, X)`.\n",
    "\n",
    "Triks:\n",
    "* Minimize the negative log-likelihood `NLL(theta)` which is equal to `-log(L(theta, X))`\n",
    "* Reparametrize Gaussian using precision, which is `1/(sigma^2)`\n",
    "\n",
    "The parameters estimates are gotten by setting the NLL to the null vector **0**.\n",
    "\n",
    "*Strange math calcs.......*\n",
    "\n",
    "`mu` is equal to the sample **mean** while `sigma` is equal to the **biased sample variance**.\n"
   ]
  },
  {
   "cell_type": "markdown",
   "metadata": {},
   "source": [
    "### Step 4. Implementation and empirical verification"
   ]
  },
  {
   "cell_type": "markdown",
   "metadata": {},
   "source": [
    "We code our estimation procedure into a R function `estimate()`"
   ]
  },
  {
   "cell_type": "code",
   "execution_count": null,
   "metadata": {},
   "outputs": [],
   "source": [
    "estimate <- function(x) {\n",
    "    mean_x <- mean(x)\n",
    "\n",
    "    theta_hat <- c(\n",
    "        mu = mean_x,\n",
    "        sigma = sqrt(mean((x - mean_x)^2))\n",
    "    )\n",
    "    return(theta_hat)\n",
    "}"
   ]
  },
  {
   "cell_type": "code",
   "execution_count": null,
   "metadata": {},
   "outputs": [],
   "source": [
    "n <- 20\n",
    "x <- simulate(n, theta = c(mu = 175, sigma = 5))\n",
    "\n",
    "theta_hat <- estimate(x)\n",
    "theta_hat"
   ]
  },
  {
   "cell_type": "markdown",
   "metadata": {},
   "source": [
    "These estimates are not too far from the ground truth values. Our simple check is good enough\n",
    "for this didactic toy example. The code would allow you to investigate more systematically\n",
    "the relationships between estimates and ground truth with various values of the parameters\n",
    "and sample size n."
   ]
  },
  {
   "cell_type": "markdown",
   "metadata": {},
   "source": [
    "### Step 5. Application to real data"
   ]
  },
  {
   "cell_type": "markdown",
   "metadata": {},
   "source": [
    "We finally apply our estimation to the original dataset:"
   ]
  },
  {
   "cell_type": "code",
   "execution_count": null,
   "metadata": {},
   "outputs": [],
   "source": [
    "theta_hat <- estimate(heights)\n",
    "theta_hat"
   ]
  },
  {
   "cell_type": "markdown",
   "metadata": {},
   "source": [
    "# 4. Assessing whether a distribution fits data with Q-Q plots"
   ]
  },
  {
   "cell_type": "markdown",
   "metadata": {},
   "source": [
    "The strategy described in section 1 allows assessing whether an estimation procedure returns\n",
    "reasonable estimates on simulated data. It does not assess however ether the simulation\n",
    "assumptions, i.e. the data generative model, is a reasonable model for the data at hand.\n",
    "One key modeling assumption of a data generative model is the choice of the distribution.\n",
    "The quantile-quantile plot is a graphical tool to assess whether a distribution fits the data\n",
    "reasonably.\n",
    "\n",
    "As a concrete example, let’s consider 50 data points coming from the uniform distribution\n",
    "in the [2,3] interval. If you assume your data comes from the uniform distribution in the\n",
    "[2,3] interval, you expect the first 10% of your data to fall in [2,2.1], the second 10% in\n",
    "[2.1,2.2] and so forth. A histogram could be used to visually assess this agreement. However,\n",
    "histograms are shaky because of possible low counts in every bin:"
   ]
  },
  {
   "cell_type": "code",
   "execution_count": null,
   "metadata": {},
   "outputs": [],
   "source": [
    "par(cex = 0.7)\n",
    "u <- runif(50, min = 2, max = 3)\n",
    "hist(u, main = \"\")"
   ]
  },
  {
   "cell_type": "markdown",
   "metadata": {},
   "source": [
    "Instead of the histogram, one could plot the deciles of the sample distribution against those\n",
    "of a theoretical distribution. Here are the deciles:"
   ]
  },
  {
   "cell_type": "code",
   "execution_count": null,
   "metadata": {},
   "outputs": [],
   "source": [
    "dec <- quantile(u, seq(0, 1, 0.1))\n",
    "dec"
   ]
  },
  {
   "cell_type": "code",
   "execution_count": null,
   "metadata": {},
   "outputs": [],
   "source": [
    "par(cex = 0.7)\n",
    "plot(seq(2, 3, 0.1),\n",
    "    dec,\n",
    "    xlim = c(2, 3), ylim = c(2, 3),\n",
    "    xlab = \"Deciles of the uniform distribution over [2,3]\",\n",
    "    ylab = \"Deciles of the dataset\"\n",
    ")\n",
    "abline(0, 1) ## diagonal y=x"
   ]
  },
  {
   "cell_type": "markdown",
   "metadata": {},
   "source": [
    "Now we see a clear agreement between the expected values of the deciles of the theoretical\n",
    "distribution (x-axis) and those empirically observed (y-axis). The advantage of this strategy is\n",
    "that it also generalizes to other distributions (e.g. Normal), where the shape of the density\n",
    "can be difficult to assess with a histogram."
   ]
  },
  {
   "cell_type": "markdown",
   "metadata": {},
   "source": [
    "For a finite sample we can estimate the quantile for every data point, not just the deciles.\n",
    "The Q-Q plot scatter plots the quantiles of two distributions against each other. One way is\n",
    "to use as expected quantile (r − 0.5)/N (Hazen, 1914), where r is the rank of the data point.\n",
    "The R function ppoints gives more accurate values:\n"
   ]
  },
  {
   "cell_type": "code",
   "execution_count": null,
   "metadata": {},
   "outputs": [],
   "source": [
    "par(cex = 0.7)\n",
    "plot(qunif(ppoints(length(u)), min = 2, max = 3), sort(u),\n",
    "    xlim = c(2, 3), ylim = c(2, 3),\n",
    "    xlab = \"Quantiles of the uniform distribution over [2,3]\",\n",
    "    ylab = \"Quantiles of the dataset\"\n",
    ")\n",
    "abline(0, 1)"
   ]
  },
  {
   "cell_type": "markdown",
   "metadata": {},
   "source": [
    "In R, Q-Q plots between two datasets can be generated using the function qqplot() . In the\n",
    "special case of a normal distribution use the function qqnorm() and the function qqline() ,\n",
    "which adds a line to the “theoretical” quantile-quantile plot passing through the first and\n",
    "third quartiles."
   ]
  }
 ],
 "metadata": {
  "interpreter": {
   "hash": "0ffae75cf58317f785aa14dd5eecbf941a61735745bd6cafab6bca9589b9692e"
  },
  "kernelspec": {
   "display_name": "R",
   "language": "R",
   "name": "ir"
  },
  "language_info": {
   "codemirror_mode": "r",
   "file_extension": ".r",
   "mimetype": "text/x-r-source",
   "name": "R",
   "pygments_lexer": "r",
   "version": "4.1.2"
  },
  "orig_nbformat": 4
 },
 "nbformat": 4,
 "nbformat_minor": 2
}
